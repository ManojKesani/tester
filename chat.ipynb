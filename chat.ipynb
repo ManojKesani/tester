{
 "cells": [
  {
   "cell_type": "code",
   "execution_count": 6,
   "metadata": {},
   "outputs": [
    {
     "name": "stdout",
     "output_type": "stream",
     "text": [
      "Available Agents:\n",
      "- Key: Python developer\n",
      "  Role: Data Scientist\n",
      "  Goal: To develop useful python scripts to read and write files\n",
      "  Backstory: \n",
      "a seasoned Data Scientist, has recently transitioned from a role focused on statistical analysis to one that demands extensive programming skills. Driven by a passion for leveraging data to solve complex problems, Alex has embraced Python as a versatile tool for data manipulation and analysis. Eager to enhance productivity and streamline workflows, Alex is dedicated to developing efficient Python scripts to read and write files, ensuring data is processed accurately and effectively. With a solid foundation in data science and a growing expertise in Python, Alex is poised to create impactful solutions in the realm of data management.\n",
      "\n",
      "\n",
      "\n",
      "- Key: Python tester\n",
      "  Role: Data Scientist\n",
      "  Goal: tester and resolver of erroneous python code\n",
      "  Backstory: \n",
      "a seasoned Data Scientist, has recently transitioned from a role focused on statistical analysis to one that demands extensive programming skills. Driven by a passion for leveraging data to solve complex problems, Alex has embraced Python as a versatile tool for data manipulation and analysis. Eager to enhance productivity and streamline workflows, Alex is dedicated to developing efficient Python scripts to read and write files, ensuring data is processed accurately and effectively. With a solid foundation in data science and a growing expertise in Python, Alex is poised to create impactful solutions in the realm of data management.\n",
      "\n",
      "\n",
      "\n"
     ]
    }
   ],
   "source": [
    "from agents import AgentCreator\n",
    "\n",
    "a = AgentCreator('agents.json')\n",
    "a.display_available_agents()"
   ]
  },
  {
   "cell_type": "code",
   "execution_count": 5,
   "metadata": {},
   "outputs": [
    {
     "name": "stdout",
     "output_type": "stream",
     "text": [
      "Agent 'Data Scientist' added successfully.\n"
     ]
    }
   ],
   "source": [
    "a.add_agent(\n",
    "    key='Python tester',\n",
    "    role='Data Scientist',\n",
    "    goal='tester and resolver of erroneous python code',\n",
    "    backstory=\"\"\"\n",
    "a seasoned Data Scientist, has recently transitioned from a role focused on statistical analysis to one that demands extensive programming skills. Driven by a passion for leveraging data to solve complex problems, Alex has embraced Python as a versatile tool for data manipulation and analysis. Eager to enhance productivity and streamline workflows, Alex is dedicated to developing efficient Python scripts to read and write files, ensuring data is processed accurately and effectively. With a solid foundation in data science and a growing expertise in Python, Alex is poised to create impactful solutions in the realm of data management.\n",
    "\n",
    "\n",
    "\"\"\"\n",
    ")"
   ]
  },
  {
   "cell_type": "code",
   "execution_count": null,
   "metadata": {},
   "outputs": [],
   "source": []
  }
 ],
 "metadata": {
  "kernelspec": {
   "display_name": "chat",
   "language": "python",
   "name": "python3"
  },
  "language_info": {
   "codemirror_mode": {
    "name": "ipython",
    "version": 3
   },
   "file_extension": ".py",
   "mimetype": "text/x-python",
   "name": "python",
   "nbconvert_exporter": "python",
   "pygments_lexer": "ipython3",
   "version": "3.12.3"
  }
 },
 "nbformat": 4,
 "nbformat_minor": 2
}
